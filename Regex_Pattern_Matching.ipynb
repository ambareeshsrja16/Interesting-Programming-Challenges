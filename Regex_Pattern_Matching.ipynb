{
 "cells": [
  {
   "cell_type": "markdown",
   "metadata": {},
   "source": [
    "# Regular Expression Matching"
   ]
  },
  {
   "cell_type": "markdown",
   "metadata": {},
   "source": [
    "Given an input string (s) and a pattern (p), implement regular expression matching with support for '.' and '*'.\n",
    "\n",
    "    '.' Matches any single character.\n",
    "    '*' Matches zero or more of the preceding element.\n",
    "\n",
    "The matching should cover the entire input string (not partial).\n",
    "\n",
    "Note:\n",
    "s could be empty and contains only lowercase letters a-z.\n",
    "p could be empty and contains only lowercase letters a-z, and characters like . or *.\n",
    "\n",
    "Source: [LeetCode ](https://leetcode.com/problems/regular-expression-matching/)"
   ]
  },
  {
   "cell_type": "markdown",
   "metadata": {},
   "source": [
    "## Solution 1"
   ]
  },
  {
   "cell_type": "code",
   "execution_count": null,
   "metadata": {},
   "outputs": [],
   "source": [
    "def isMatch(self, source: str, p: str) -> bool:\n",
    "        \n",
    "    from functools import lru_cache\n",
    "    @lru_cache(maxsize=None)\n",
    "    def rec(s, t):\n",
    "        \"\"\"\n",
    "        s is the source\n",
    "        p is regex pattern string \n",
    "        \"\"\"\n",
    "\n",
    "        if s==t: \n",
    "            return True\n",
    "\n",
    "        if not t: \n",
    "            return False\n",
    "\n",
    "        if not s:\n",
    "            if len(t)>=2 and t[1]=='*':\n",
    "                return rec(s,t[2:])\n",
    "            else:\n",
    "                return False\n",
    "\n",
    "        if t[1:2]=='*': \n",
    "            if s[0:1] == t[0:1] or t[0:1]=='.':\n",
    "                return rec(s[1:], t) or rec(s, t[2:])\n",
    "            else:\n",
    "                return rec(s, t[2:])\n",
    "        else:\n",
    "            if s[0:1]==t[0:1] or t[0:1]=='.':\n",
    "                return rec(s[1:], t[1:])\n",
    "            else:\n",
    "                return False\n",
    "\n",
    "\n",
    "    def process(t):\n",
    "        \"\"\"\n",
    "        to remove occurences like ab****** and convert it to ab* \n",
    "        \"\"\"\n",
    "        new_t = []\n",
    "        i=0\n",
    "        while i < len(t):\n",
    "            if t[i]=='*':\n",
    "                new_t.append(t[i])\n",
    "                while i<len(t) and t[i]=='*':\n",
    "                    i+=1\n",
    "            if i<len(t):    \n",
    "                new_t.append(t[i])\n",
    "            i+=1\n",
    "        return \"\".join(new_t)\n",
    "\n",
    "    p = process(p)\n",
    "    return rec(source, p)    "
   ]
  },
  {
   "cell_type": "markdown",
   "metadata": {},
   "source": [
    "## Time and Space Complexity\n",
    "\n",
    "Both are O(N * M) if N, M are size of s and p respectively."
   ]
  },
  {
   "cell_type": "markdown",
   "metadata": {},
   "source": [
    "## TIL\n",
    "\n",
    "A trick to prevent \"string index out of range\" error is to use range-slicing. While directly accessing the non-existent element gives you the error, specifying a range gives you the empty string, and you don't have to deal with it separately! Could come in handy is select situations (like line 23 above  if t[1:2]==' * ', which will work even if t is an empty string)"
   ]
  },
  {
   "cell_type": "markdown",
   "metadata": {},
   "source": [
    "### Examples"
   ]
  },
  {
   "cell_type": "code",
   "execution_count": 22,
   "metadata": {},
   "outputs": [
    {
     "ename": "IndexError",
     "evalue": "string index out of range",
     "output_type": "error",
     "traceback": [
      "\u001b[1;31m---------------------------------------------------------------------------\u001b[0m",
      "\u001b[1;31mIndexError\u001b[0m                                Traceback (most recent call last)",
      "\u001b[1;32m<ipython-input-22-eae9a2647803>\u001b[0m in \u001b[0;36m<module>\u001b[1;34m\u001b[0m\n\u001b[0;32m      1\u001b[0m \u001b[0ms\u001b[0m \u001b[1;33m=\u001b[0m \u001b[1;34m''\u001b[0m\u001b[1;33m\u001b[0m\u001b[1;33m\u001b[0m\u001b[0m\n\u001b[1;32m----> 2\u001b[1;33m \u001b[0mprint\u001b[0m\u001b[1;33m(\u001b[0m\u001b[0ms\u001b[0m\u001b[1;33m[\u001b[0m\u001b[1;36m0\u001b[0m\u001b[1;33m]\u001b[0m\u001b[1;33m)\u001b[0m\u001b[1;33m\u001b[0m\u001b[1;33m\u001b[0m\u001b[0m\n\u001b[0m",
      "\u001b[1;31mIndexError\u001b[0m: string index out of range"
     ]
    }
   ],
   "source": [
    "s = ''\n",
    "print(s[0])"
   ]
  },
  {
   "cell_type": "code",
   "execution_count": 23,
   "metadata": {},
   "outputs": [
    {
     "name": "stdout",
     "output_type": "stream",
     "text": [
      "\n"
     ]
    }
   ],
   "source": [
    "s = ''\n",
    "print(s[0:1])"
   ]
  },
  {
   "cell_type": "code",
   "execution_count": 24,
   "metadata": {},
   "outputs": [
    {
     "ename": "IndexError",
     "evalue": "string index out of range",
     "output_type": "error",
     "traceback": [
      "\u001b[1;31m---------------------------------------------------------------------------\u001b[0m",
      "\u001b[1;31mIndexError\u001b[0m                                Traceback (most recent call last)",
      "\u001b[1;32m<ipython-input-24-60e8cf4d84b9>\u001b[0m in \u001b[0;36m<module>\u001b[1;34m\u001b[0m\n\u001b[0;32m      1\u001b[0m \u001b[0ms\u001b[0m \u001b[1;33m=\u001b[0m \u001b[1;34m'a'\u001b[0m\u001b[1;33m\u001b[0m\u001b[1;33m\u001b[0m\u001b[0m\n\u001b[1;32m----> 2\u001b[1;33m \u001b[0mprint\u001b[0m\u001b[1;33m(\u001b[0m\u001b[0ms\u001b[0m\u001b[1;33m[\u001b[0m\u001b[1;36m1\u001b[0m\u001b[1;33m]\u001b[0m\u001b[1;33m)\u001b[0m\u001b[1;33m\u001b[0m\u001b[1;33m\u001b[0m\u001b[0m\n\u001b[0m",
      "\u001b[1;31mIndexError\u001b[0m: string index out of range"
     ]
    }
   ],
   "source": [
    "s = 'a'\n",
    "print(s[1])"
   ]
  },
  {
   "cell_type": "code",
   "execution_count": 25,
   "metadata": {},
   "outputs": [
    {
     "name": "stdout",
     "output_type": "stream",
     "text": [
      "\n"
     ]
    }
   ],
   "source": [
    "s = 'a'\n",
    "print(s[1:2])"
   ]
  }
 ],
 "metadata": {
  "kernelspec": {
   "display_name": "Python 3",
   "language": "python",
   "name": "python3"
  },
  "language_info": {
   "codemirror_mode": {
    "name": "ipython",
    "version": 3
   },
   "file_extension": ".py",
   "mimetype": "text/x-python",
   "name": "python",
   "nbconvert_exporter": "python",
   "pygments_lexer": "ipython3",
   "version": "3.7.3"
  }
 },
 "nbformat": 4,
 "nbformat_minor": 2
}
